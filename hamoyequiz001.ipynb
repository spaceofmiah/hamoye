{
 "cells": [
  {
   "cell_type": "code",
   "execution_count": null,
   "metadata": {},
   "outputs": [],
   "source": [
    "import pandas as pd\n",
    "import numpy as np\n",
    "\n",
    "df = pd.read_csv('https://raw.githubusercontent.com/WalePhenomenon/climate_change/master/fuel_ferc1.csv')"
   ]
  },
  {
   "cell_type": "code",
   "execution_count": 11,
   "metadata": {},
   "outputs": [
    {
     "data": {
      "text/html": [
       "<div>\n",
       "<style scoped>\n",
       "    .dataframe tbody tr th:only-of-type {\n",
       "        vertical-align: middle;\n",
       "    }\n",
       "\n",
       "    .dataframe tbody tr th {\n",
       "        vertical-align: top;\n",
       "    }\n",
       "\n",
       "    .dataframe thead th {\n",
       "        text-align: right;\n",
       "    }\n",
       "</style>\n",
       "<table border=\"1\" class=\"dataframe\">\n",
       "  <thead>\n",
       "    <tr style=\"text-align: right;\">\n",
       "      <th></th>\n",
       "      <th>count</th>\n",
       "      <th>mean</th>\n",
       "      <th>std</th>\n",
       "      <th>min</th>\n",
       "      <th>25%</th>\n",
       "      <th>50%</th>\n",
       "      <th>75%</th>\n",
       "      <th>max</th>\n",
       "    </tr>\n",
       "  </thead>\n",
       "  <tbody>\n",
       "    <tr>\n",
       "      <th>utility_id_ferc1</th>\n",
       "      <td>29523.0</td>\n",
       "      <td>1.186018e+02</td>\n",
       "      <td>7.417835e+01</td>\n",
       "      <td>1.000000</td>\n",
       "      <td>55.0000</td>\n",
       "      <td>122.000000</td>\n",
       "      <td>176.000</td>\n",
       "      <td>5.140000e+02</td>\n",
       "    </tr>\n",
       "    <tr>\n",
       "      <th>report_year</th>\n",
       "      <td>29523.0</td>\n",
       "      <td>2.005806e+03</td>\n",
       "      <td>7.025483e+00</td>\n",
       "      <td>1994.000000</td>\n",
       "      <td>2000.0000</td>\n",
       "      <td>2006.000000</td>\n",
       "      <td>2012.000</td>\n",
       "      <td>2.018000e+03</td>\n",
       "    </tr>\n",
       "    <tr>\n",
       "      <th>fuel_qty_burned</th>\n",
       "      <td>29523.0</td>\n",
       "      <td>2.622119e+06</td>\n",
       "      <td>9.118004e+06</td>\n",
       "      <td>1.000000</td>\n",
       "      <td>13817.0000</td>\n",
       "      <td>253322.000000</td>\n",
       "      <td>1424034.000</td>\n",
       "      <td>5.558942e+08</td>\n",
       "    </tr>\n",
       "    <tr>\n",
       "      <th>fuel_mmbtu_per_unit</th>\n",
       "      <td>29523.0</td>\n",
       "      <td>8.492111e+00</td>\n",
       "      <td>1.060022e+01</td>\n",
       "      <td>0.000001</td>\n",
       "      <td>1.0240</td>\n",
       "      <td>5.762694</td>\n",
       "      <td>17.006</td>\n",
       "      <td>3.412600e+02</td>\n",
       "    </tr>\n",
       "    <tr>\n",
       "      <th>fuel_cost_per_unit_burned</th>\n",
       "      <td>29523.0</td>\n",
       "      <td>2.086490e+02</td>\n",
       "      <td>2.854490e+03</td>\n",
       "      <td>-276.080000</td>\n",
       "      <td>5.2070</td>\n",
       "      <td>26.000000</td>\n",
       "      <td>47.113</td>\n",
       "      <td>1.393580e+05</td>\n",
       "    </tr>\n",
       "    <tr>\n",
       "      <th>fuel_cost_per_unit_delivered</th>\n",
       "      <td>29523.0</td>\n",
       "      <td>9.175704e+02</td>\n",
       "      <td>6.877593e+04</td>\n",
       "      <td>-874.937000</td>\n",
       "      <td>3.7785</td>\n",
       "      <td>17.371000</td>\n",
       "      <td>42.137</td>\n",
       "      <td>7.964521e+06</td>\n",
       "    </tr>\n",
       "    <tr>\n",
       "      <th>fuel_cost_per_mmbtu</th>\n",
       "      <td>29523.0</td>\n",
       "      <td>1.930435e+01</td>\n",
       "      <td>2.091541e+03</td>\n",
       "      <td>-41.501000</td>\n",
       "      <td>1.9400</td>\n",
       "      <td>4.127000</td>\n",
       "      <td>7.745</td>\n",
       "      <td>3.592780e+05</td>\n",
       "    </tr>\n",
       "  </tbody>\n",
       "</table>\n",
       "</div>"
      ],
      "text/plain": [
       "                                count          mean           std  \\\n",
       "utility_id_ferc1              29523.0  1.186018e+02  7.417835e+01   \n",
       "report_year                   29523.0  2.005806e+03  7.025483e+00   \n",
       "fuel_qty_burned               29523.0  2.622119e+06  9.118004e+06   \n",
       "fuel_mmbtu_per_unit           29523.0  8.492111e+00  1.060022e+01   \n",
       "fuel_cost_per_unit_burned     29523.0  2.086490e+02  2.854490e+03   \n",
       "fuel_cost_per_unit_delivered  29523.0  9.175704e+02  6.877593e+04   \n",
       "fuel_cost_per_mmbtu           29523.0  1.930435e+01  2.091541e+03   \n",
       "\n",
       "                                      min         25%            50%  \\\n",
       "utility_id_ferc1                 1.000000     55.0000     122.000000   \n",
       "report_year                   1994.000000   2000.0000    2006.000000   \n",
       "fuel_qty_burned                  1.000000  13817.0000  253322.000000   \n",
       "fuel_mmbtu_per_unit              0.000001      1.0240       5.762694   \n",
       "fuel_cost_per_unit_burned     -276.080000      5.2070      26.000000   \n",
       "fuel_cost_per_unit_delivered  -874.937000      3.7785      17.371000   \n",
       "fuel_cost_per_mmbtu            -41.501000      1.9400       4.127000   \n",
       "\n",
       "                                      75%           max  \n",
       "utility_id_ferc1                  176.000  5.140000e+02  \n",
       "report_year                      2012.000  2.018000e+03  \n",
       "fuel_qty_burned               1424034.000  5.558942e+08  \n",
       "fuel_mmbtu_per_unit                17.006  3.412600e+02  \n",
       "fuel_cost_per_unit_burned          47.113  1.393580e+05  \n",
       "fuel_cost_per_unit_delivered       42.137  7.964521e+06  \n",
       "fuel_cost_per_mmbtu                 7.745  3.592780e+05  "
      ]
     },
     "execution_count": 11,
     "metadata": {},
     "output_type": "execute_result"
    }
   ],
   "source": [
    "df.describe().T"
   ]
  },
  {
   "cell_type": "code",
   "execution_count": null,
   "metadata": {},
   "outputs": [],
   "source": [
    "df['fuel_cost_per_unit_burned'].mean()"
   ]
  },
  {
   "cell_type": "code",
   "execution_count": 12,
   "metadata": {},
   "outputs": [
    {
     "data": {
      "text/html": [
       "<div>\n",
       "<style scoped>\n",
       "    .dataframe tbody tr th:only-of-type {\n",
       "        vertical-align: middle;\n",
       "    }\n",
       "\n",
       "    .dataframe tbody tr th {\n",
       "        vertical-align: top;\n",
       "    }\n",
       "\n",
       "    .dataframe thead th {\n",
       "        text-align: right;\n",
       "    }\n",
       "</style>\n",
       "<table border=\"1\" class=\"dataframe\">\n",
       "  <thead>\n",
       "    <tr style=\"text-align: right;\">\n",
       "      <th></th>\n",
       "      <th>record_id</th>\n",
       "      <th>utility_id_ferc1</th>\n",
       "      <th>report_year</th>\n",
       "      <th>plant_name_ferc1</th>\n",
       "      <th>fuel_type_code_pudl</th>\n",
       "      <th>fuel_unit</th>\n",
       "      <th>fuel_qty_burned</th>\n",
       "      <th>fuel_mmbtu_per_unit</th>\n",
       "      <th>fuel_cost_per_unit_burned</th>\n",
       "      <th>fuel_cost_per_unit_delivered</th>\n",
       "      <th>fuel_cost_per_mmbtu</th>\n",
       "    </tr>\n",
       "  </thead>\n",
       "  <tbody>\n",
       "    <tr>\n",
       "      <th>0</th>\n",
       "      <td>f1_fuel_1994_12_1_0_7</td>\n",
       "      <td>1</td>\n",
       "      <td>1994</td>\n",
       "      <td>rockport</td>\n",
       "      <td>coal</td>\n",
       "      <td>ton</td>\n",
       "      <td>5377489.0</td>\n",
       "      <td>16.590</td>\n",
       "      <td>18.59</td>\n",
       "      <td>18.53</td>\n",
       "      <td>1.121</td>\n",
       "    </tr>\n",
       "    <tr>\n",
       "      <th>1</th>\n",
       "      <td>f1_fuel_1994_12_1_0_10</td>\n",
       "      <td>1</td>\n",
       "      <td>1994</td>\n",
       "      <td>rockport total plant</td>\n",
       "      <td>coal</td>\n",
       "      <td>ton</td>\n",
       "      <td>10486945.0</td>\n",
       "      <td>16.592</td>\n",
       "      <td>18.58</td>\n",
       "      <td>18.53</td>\n",
       "      <td>1.120</td>\n",
       "    </tr>\n",
       "    <tr>\n",
       "      <th>2</th>\n",
       "      <td>f1_fuel_1994_12_2_0_1</td>\n",
       "      <td>2</td>\n",
       "      <td>1994</td>\n",
       "      <td>gorgas</td>\n",
       "      <td>coal</td>\n",
       "      <td>ton</td>\n",
       "      <td>2978683.0</td>\n",
       "      <td>24.130</td>\n",
       "      <td>39.72</td>\n",
       "      <td>38.12</td>\n",
       "      <td>1.650</td>\n",
       "    </tr>\n",
       "    <tr>\n",
       "      <th>3</th>\n",
       "      <td>f1_fuel_1994_12_2_0_7</td>\n",
       "      <td>2</td>\n",
       "      <td>1994</td>\n",
       "      <td>barry</td>\n",
       "      <td>coal</td>\n",
       "      <td>ton</td>\n",
       "      <td>3739484.0</td>\n",
       "      <td>23.950</td>\n",
       "      <td>47.21</td>\n",
       "      <td>45.99</td>\n",
       "      <td>1.970</td>\n",
       "    </tr>\n",
       "    <tr>\n",
       "      <th>4</th>\n",
       "      <td>f1_fuel_1994_12_2_0_10</td>\n",
       "      <td>2</td>\n",
       "      <td>1994</td>\n",
       "      <td>chickasaw</td>\n",
       "      <td>gas</td>\n",
       "      <td>mcf</td>\n",
       "      <td>40533.0</td>\n",
       "      <td>1.000</td>\n",
       "      <td>2.77</td>\n",
       "      <td>2.77</td>\n",
       "      <td>2.570</td>\n",
       "    </tr>\n",
       "  </tbody>\n",
       "</table>\n",
       "</div>"
      ],
      "text/plain": [
       "                record_id  utility_id_ferc1  report_year  \\\n",
       "0   f1_fuel_1994_12_1_0_7                 1         1994   \n",
       "1  f1_fuel_1994_12_1_0_10                 1         1994   \n",
       "2   f1_fuel_1994_12_2_0_1                 2         1994   \n",
       "3   f1_fuel_1994_12_2_0_7                 2         1994   \n",
       "4  f1_fuel_1994_12_2_0_10                 2         1994   \n",
       "\n",
       "       plant_name_ferc1 fuel_type_code_pudl fuel_unit  fuel_qty_burned  \\\n",
       "0              rockport                coal       ton        5377489.0   \n",
       "1  rockport total plant                coal       ton       10486945.0   \n",
       "2                gorgas                coal       ton        2978683.0   \n",
       "3                 barry                coal       ton        3739484.0   \n",
       "4             chickasaw                 gas       mcf          40533.0   \n",
       "\n",
       "   fuel_mmbtu_per_unit  fuel_cost_per_unit_burned  \\\n",
       "0               16.590                      18.59   \n",
       "1               16.592                      18.58   \n",
       "2               24.130                      39.72   \n",
       "3               23.950                      47.21   \n",
       "4                1.000                       2.77   \n",
       "\n",
       "   fuel_cost_per_unit_delivered  fuel_cost_per_mmbtu  \n",
       "0                         18.53                1.121  \n",
       "1                         18.53                1.120  \n",
       "2                         38.12                1.650  \n",
       "3                         45.99                1.970  \n",
       "4                          2.77                2.570  "
      ]
     },
     "execution_count": 12,
     "metadata": {},
     "output_type": "execute_result"
    }
   ],
   "source": [
    "df.head()"
   ]
  },
  {
   "cell_type": "code",
   "execution_count": 17,
   "metadata": {},
   "outputs": [
    {
     "data": {
      "text/plain": [
       "15.85"
      ]
     },
     "execution_count": 17,
     "metadata": {},
     "output_type": "execute_result"
    }
   ],
   "source": [
    "fuel_skewness = df['fuel_qty_burned'].skew()\n",
    "fuel_skewness.round(2)"
   ]
  },
  {
   "cell_type": "code",
   "execution_count": 18,
   "metadata": {},
   "outputs": [
    {
     "data": {
      "text/plain": [
       "651.37"
      ]
     },
     "execution_count": 18,
     "metadata": {},
     "output_type": "execute_result"
    }
   ],
   "source": [
    "fuel_kortosis = df['fuel_qty_burned'].kurt()\n",
    "fuel_kortosis.round(2)"
   ]
  },
  {
   "cell_type": "code",
   "execution_count": 27,
   "metadata": {},
   "outputs": [
    {
     "data": {
      "text/plain": [
       "record_id                       False\n",
       "utility_id_ferc1                False\n",
       "report_year                     False\n",
       "plant_name_ferc1                False\n",
       "fuel_type_code_pudl             False\n",
       "fuel_unit                        True\n",
       "fuel_qty_burned                 False\n",
       "fuel_mmbtu_per_unit             False\n",
       "fuel_cost_per_unit_burned       False\n",
       "fuel_cost_per_unit_delivered    False\n",
       "fuel_cost_per_mmbtu             False\n",
       "dtype: bool"
      ]
     },
     "execution_count": 27,
     "metadata": {},
     "output_type": "execute_result"
    }
   ],
   "source": [
    "df.isna().any()"
   ]
  },
  {
   "cell_type": "code",
   "execution_count": 31,
   "metadata": {},
   "outputs": [
    {
     "data": {
      "text/plain": [
       "180"
      ]
     },
     "execution_count": 31,
     "metadata": {},
     "output_type": "execute_result"
    }
   ],
   "source": [
    "df['fuel_unit'].isna().sum()"
   ]
  },
  {
   "cell_type": "code",
   "execution_count": 48,
   "metadata": {},
   "outputs": [
    {
     "data": {
      "text/plain": [
       "0.61"
      ]
     },
     "execution_count": 48,
     "metadata": {},
     "output_type": "execute_result"
    }
   ],
   "source": [
    "percent = df['fuel_unit'].isna().sum()/(len(df['fuel_unit']))*100\n",
    "percent.round(3)"
   ]
  }
 ],
 "metadata": {
  "kernelspec": {
   "display_name": "Python 3",
   "language": "python",
   "name": "python3"
  },
  "language_info": {
   "codemirror_mode": {
    "name": "ipython",
    "version": 3
   },
   "file_extension": ".py",
   "mimetype": "text/x-python",
   "name": "python",
   "nbconvert_exporter": "python",
   "pygments_lexer": "ipython3",
   "version": "3.8.4"
  }
 },
 "nbformat": 4,
 "nbformat_minor": 4
}
